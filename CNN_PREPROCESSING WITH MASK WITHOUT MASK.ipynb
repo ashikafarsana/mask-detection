{
 "cells": [
  {
   "cell_type": "code",
   "execution_count": 19,
   "id": "045726fa",
   "metadata": {},
   "outputs": [],
   "source": [
    "import os,cv2\n",
    "import numpy as np\n",
    "from keras.utils import np_utils"
   ]
  },
  {
   "cell_type": "code",
   "execution_count": 20,
   "id": "f0cf02a0",
   "metadata": {},
   "outputs": [],
   "source": [
    "data_path=\"C:/Users/PARCHU/Desktop/face recognition/data\""
   ]
  },
  {
   "cell_type": "code",
   "execution_count": 21,
   "id": "ff2daba8",
   "metadata": {},
   "outputs": [],
   "source": [
    "categories=os.listdir(data_path)"
   ]
  },
  {
   "cell_type": "code",
   "execution_count": 22,
   "id": "3df083f2",
   "metadata": {},
   "outputs": [],
   "source": [
    "labels=[i for i in range(len(categories))]"
   ]
  },
  {
   "cell_type": "code",
   "execution_count": 23,
   "id": "c302117c",
   "metadata": {},
   "outputs": [],
   "source": [
    "label_dict=dict(zip(categories,labels))"
   ]
  },
  {
   "cell_type": "code",
   "execution_count": 24,
   "id": "bf8f3625",
   "metadata": {},
   "outputs": [
    {
     "name": "stdout",
     "output_type": "stream",
     "text": [
      "['without_mask', 'with_mask']\n",
      "[0, 1]\n",
      "{'without_mask': 0, 'with_mask': 1}\n"
     ]
    }
   ],
   "source": [
    "print(categories)\n",
    "print(labels)\n",
    "print(label_dict)"
   ]
  },
  {
   "cell_type": "code",
   "execution_count": 25,
   "id": "078c0237",
   "metadata": {},
   "outputs": [],
   "source": [
    "image_size=100\n",
    "data=[]\n",
    "target=[]\n",
    "for category in categories:\n",
    "    folder_path=os.path.join(data_path,category)\n",
    "    image_names=os.listdir(folder_path)\n",
    "    for image_name in image_names:\n",
    "        image_path=os.path.join(folder_path,image_name)\n",
    "        img=cv2.imread(image_path)\n",
    "        try:\n",
    "            grey=cv2.cvtColor(img,cv2.COLOR_BGR2GRAY)\n",
    "            resize=cv2.resize(grey,(image_size,image_size))\n",
    "            data.append(resize)\n",
    "            target.append(label_dict[category])\n",
    "        except Exception as e:\n",
    "            print(\"Exception\",e)"
   ]
  },
  {
   "cell_type": "code",
   "execution_count": 27,
   "id": "d65ee343",
   "metadata": {},
   "outputs": [],
   "source": [
    "data=np.array(data)/255.0\n",
    "data=np.reshape(data,(data.shape[0],image_size,image_size,1))\n",
    "target=np.array(target)"
   ]
  },
  {
   "cell_type": "code",
   "execution_count": 28,
   "id": "540082cb",
   "metadata": {},
   "outputs": [],
   "source": [
    "new_target=np_utils.to_categorical(target)"
   ]
  },
  {
   "cell_type": "code",
   "execution_count": 33,
   "id": "1826c06a",
   "metadata": {},
   "outputs": [],
   "source": [
    "np.save('data.npy',data)"
   ]
  },
  {
   "cell_type": "code",
   "execution_count": 32,
   "id": "fd606182",
   "metadata": {},
   "outputs": [],
   "source": [
    "np.save('target.npy',target)"
   ]
  },
  {
   "cell_type": "code",
   "execution_count": null,
   "id": "d0020b36",
   "metadata": {},
   "outputs": [],
   "source": []
  }
 ],
 "metadata": {
  "kernelspec": {
   "display_name": "Python 3 (ipykernel)",
   "language": "python",
   "name": "python3"
  },
  "language_info": {
   "codemirror_mode": {
    "name": "ipython",
    "version": 3
   },
   "file_extension": ".py",
   "mimetype": "text/x-python",
   "name": "python",
   "nbconvert_exporter": "python",
   "pygments_lexer": "ipython3",
   "version": "3.9.7"
  }
 },
 "nbformat": 4,
 "nbformat_minor": 5
}
